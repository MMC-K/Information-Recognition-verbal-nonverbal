{
 "cells": [
  {
   "cell_type": "code",
   "execution_count": 2,
   "metadata": {},
   "outputs": [],
   "source": [
    "import os\n",
    "import json\n",
    "import glob\n",
    "import pandas as pd\n",
    "import seaborn as sns\n",
    "import matplotlib.pyplot as plt\n",
    "import matplotlib as mpl\n",
    "\n",
    "from collections import Counter\n",
    "from sklearn.model_selection import train_test_split\n",
    "from tqdm import tqdm\n",
    "\n",
    "import warnings\n",
    "warnings.filterwarnings('ignore')"
   ]
  },
  {
   "attachments": {},
   "cell_type": "markdown",
   "metadata": {},
   "source": [
    "# 데이터 분석"
   ]
  },
  {
   "attachments": {},
   "cell_type": "markdown",
   "metadata": {},
   "source": [
    "데이터 일치도(annotator)"
   ]
  },
  {
   "cell_type": "code",
   "execution_count": 42,
   "metadata": {},
   "outputs": [
    {
     "name": "stdout",
     "output_type": "stream",
     "text": [
      "a334860186fda0d574282b12333f846b5de7864f435de97f5fd040a8ea16be08_여_20_슬픔_상업시설&점포&시장_20210123222308-003-011.jpeg\n",
      "중립\n",
      "중립\n",
      "중립\n",
      "ee169bf72a65be6f9eedae66e2707e9152647f45a23bf73f9ffa7de97f1b82f0_여_20_슬픔_실외 자연환경_20210201174802-007-033.jpg\n",
      "상처\n",
      "상처\n",
      "중립\n",
      "73ec28e8e9327a1f4259cebed3f7797058ee6e256fbcf3389fab63ec56658bab_남_30_슬픔_실외 자연환경_20201207144743-007-008.jpg\n",
      "불안\n",
      "불안\n",
      "불안\n",
      "6765\n"
     ]
    }
   ],
   "source": [
    "cnt = 0\n",
    "with open('Training/[라벨]EMOIMG_슬픔_TRAIN/img_emotion_training_data(슬픔).json', 'r') as f:\n",
    "    emotion = json.load(f)\n",
    "    for i in range(len(emotion)):\n",
    "        if((emotion[i][\"annot_A\"][\"faceExp\"] != \"슬픔\") and (emotion[i][\"annot_B\"][\"faceExp\"] != \"슬픔\") and (emotion[i][\"annot_C\"][\"faceExp\"] != \"슬픔\")):\n",
    "            cnt += 1\n",
    "            if(cnt == 50 or cnt == 100 or cnt == 3000):\n",
    "                print(emotion[i][\"filename\"])\n",
    "                print(emotion[i][\"annot_A\"][\"faceExp\"])\n",
    "                print(emotion[i][\"annot_B\"][\"faceExp\"])\n",
    "                print(emotion[i][\"annot_C\"][\"faceExp\"])\n",
    "\n",
    "print(cnt)"
   ]
  },
  {
   "attachments": {},
   "cell_type": "markdown",
   "metadata": {},
   "source": [
    "기쁨 유실 데이터 확인"
   ]
  },
  {
   "cell_type": "code",
   "execution_count": null,
   "metadata": {},
   "outputs": [],
   "source": [
    "with open('Training/[라벨]EMOIMG_기쁨_TRAIN/img_emotion_training_data(기쁨).json', 'r') as f:\n",
    "    emotion = json.load(f)\n",
    "    for i in range(len(emotion)):\n",
    "        print(emotion[i][\"filename\"])"
   ]
  },
  {
   "cell_type": "code",
   "execution_count": null,
   "metadata": {},
   "outputs": [],
   "source": [
    "#file_path = glob.glob('/media/jeeyoung/8C0CACF80CACDE881/JEE/data_multimodal/감정분류용 데이터셋/total/*.JPG')\n",
    "file_path = glob.glob('/media/jeeyoung/8C0CACF80CACDE88/JEE/data_multimodal/text/한국인 감정인식을 위한 복합 영상/기쁨/*')\n",
    "\n",
    "for i in file_path:\n",
    "    print(os.path.basename(i))"
   ]
  },
  {
   "attachments": {},
   "cell_type": "markdown",
   "metadata": {},
   "source": [
    "감정별 성별 및 나이 분포"
   ]
  },
  {
   "cell_type": "code",
   "execution_count": 4,
   "metadata": {},
   "outputs": [
    {
     "name": "stdout",
     "output_type": "stream",
     "text": [
      "====================TRAIN====================\n",
      "           10대  20대  30대  40대  50대  60대\n",
      "기쁨 남자: [137, 11692, 8830, 3275, 482, 0]\n",
      "기쁨 여자: [485, 15348, 10561, 3415, 903, 163]\n",
      "당황 남자: [104, 6958, 4973, 1604, 325, 0]\n",
      "당황 여자: [246, 7638, 4904, 1682, 618, 20]\n",
      "분노 남자: [121, 6290, 5418, 1999, 382, 0]\n",
      "분노 여자: [208, 7433, 5118, 1588, 554, 72]\n",
      "불안 남자: [66, 2092, 1036, 326, 162, 0]\n",
      "불안 여자: [115, 2658, 1471, 446, 202, 12]\n",
      "상처 남자: [66, 1390, 402, 188, 141, 0]\n",
      "상처 여자: [82, 1332, 674, 265, 178, 9]\n",
      "슬픔 남자: [127, 5834, 4785, 1681, 247, 0]\n",
      "슬픔 여자: [222, 6808, 4792, 1697, 558, 116]\n",
      "중립 남자: [109, 9840, 7040, 2364, 395, 0]\n",
      "중립 여자: [388, 11818, 7857, 2560, 741, 105]\n"
     ]
    }
   ],
   "source": [
    "import json\n",
    "\n",
    "def count_emotion_by_age_and_gender(emotion_label):\n",
    "    age_gender_counts = {\n",
    "        \"남\": [0, 0, 0, 0, 0, 0],\n",
    "        \"여\": [0, 0, 0, 0, 0, 0]\n",
    "    }\n",
    "\n",
    "    with open(f'Training/[라벨]EMOIMG_{emotion_label}_TRAIN/img_emotion_training_data({emotion_label}).json', 'r') as f:\n",
    "        emotion_data = json.load(f)\n",
    "\n",
    "    for entry in emotion_data:\n",
    "        if all(entry[f\"annot_{letter}\"][\"faceExp\"] == emotion_label for letter in \"ABC\"):\n",
    "            age = entry[\"age\"]\n",
    "            gender = entry[\"gender\"]\n",
    "            if age in [10, 20, 30, 40, 50, 60]:\n",
    "                age_idx = (age - 10) // 10\n",
    "                age_gender_counts[gender][age_idx] += 1\n",
    "\n",
    "    return age_gender_counts\n",
    "\n",
    "print(\"====================TRAIN====================\")\n",
    "print(\"           10대  20대  30대  40대  50대  60대\")\n",
    "emotions = [\"기쁨\", \"당황\", \"분노\", \"불안\", \"상처\", \"슬픔\", \"중립\"]\n",
    "\n",
    "for emotion_label in emotions:\n",
    "    counts = count_emotion_by_age_and_gender(emotion_label)\n",
    "    print(f\"{emotion_label} 남자: {counts['남']}\")\n",
    "    print(f\"{emotion_label} 여자: {counts['여']}\")"
   ]
  },
  {
   "cell_type": "code",
   "execution_count": 19,
   "metadata": {},
   "outputs": [
    {
     "name": "stdout",
     "output_type": "stream",
     "text": [
      "====================VALID====================\n",
      "           10대  20대  30대  40대  50대  60대\n",
      "기쁨 남자: [20, 1431, 1121, 425, 68, 0]\n",
      "기쁨 여자: [68, 1886, 1272, 438, 122, 19]\n",
      "당황 남자: [11, 859, 651, 204, 33, 0]\n",
      "당황 여자: [31, 945, 613, 194, 67, 4]\n",
      "분노 남자: [19, 805, 671, 241, 43, 0]\n",
      "분노 여자: [20, 923, 639, 194, 71, 8]\n",
      "불안 남자: [5, 269, 119, 48, 29, 0]\n",
      "불안 여자: [14, 347, 224, 67, 22, 4]\n",
      "상처 남자: [2, 166, 53, 22, 14, 0]\n",
      "상처 여자: [10, 165, 89, 20, 16, 0]\n",
      "슬픔 남자: [16, 749, 623, 202, 34, 0]\n",
      "슬픔 여자: [27, 848, 620, 215, 59, 14]\n",
      "중립 남자: [16, 1244, 886, 304, 50, 0]\n",
      "중립 여자: [40, 1526, 947, 310, 73, 14]\n"
     ]
    }
   ],
   "source": [
    "import json\n",
    "\n",
    "def count_emotion_by_age_and_gender(emotion_label):\n",
    "    age_gender_counts = {\n",
    "        \"남\": [0, 0, 0, 0, 0, 0],\n",
    "        \"여\": [0, 0, 0, 0, 0, 0]\n",
    "    }\n",
    "\n",
    "    with open(f'Validation/[라벨]EMOIMG_{emotion_label}_VALID/img_emotion_validation_data({emotion_label}).json', 'r') as f:\n",
    "        emotion_data = json.load(f)\n",
    "\n",
    "    for entry in emotion_data:\n",
    "        if all(entry[f\"annot_{letter}\"][\"faceExp\"] == emotion_label for letter in \"ABC\"):\n",
    "            age = entry[\"age\"]\n",
    "            gender = entry[\"gender\"]\n",
    "            if age in [10, 20, 30, 40, 50, 60]:\n",
    "                age_idx = (age - 10) // 10\n",
    "                age_gender_counts[gender][age_idx] += 1\n",
    "\n",
    "    return age_gender_counts\n",
    "\n",
    "print(\"====================VALID====================\")\n",
    "print(\"           10대  20대  30대  40대  50대  60대\")\n",
    "emotions = [\"기쁨\", \"당황\", \"분노\", \"불안\", \"상처\", \"슬픔\", \"중립\"]\n",
    "\n",
    "for emotion_label in emotions:\n",
    "    counts = count_emotion_by_age_and_gender(emotion_label)\n",
    "    print(f\"{emotion_label} 남자: {counts['남']}\")\n",
    "    print(f\"{emotion_label} 여자: {counts['여']}\")"
   ]
  },
  {
   "attachments": {},
   "cell_type": "markdown",
   "metadata": {},
   "source": [
    "# 데이터 전처리"
   ]
  },
  {
   "cell_type": "code",
   "execution_count": null,
   "metadata": {},
   "outputs": [],
   "source": [
    "##### 8:1:1로 분배하여 json 재구축\n",
    "\n",
    "import os\n",
    "import json\n",
    "import random\n",
    "from collections import defaultdict\n",
    "\n",
    "# Function to load JSON data from a file\n",
    "def load_json_file(file_path):\n",
    "    with open(file_path) as f:\n",
    "        data = json.load(f)\n",
    "    return data\n",
    "\n",
    "# Function to check if all face expressions are the same in an entry\n",
    "def check_same_face_exp(entry):\n",
    "    return all(entry[f\"annot_{letter}\"][\"faceExp\"] == label for letter in \"ABC\")\n",
    "\n",
    "# Set the base path to the directory containing the JSON files and output directory\n",
    "base_path = \"/media/jeeyoung/8C0CACF80CACDE88/JEE/data_multimodal/emotion/한국인감정인식을위한복합영상\"\n",
    "output_dir = \"/home/jeeyoung\"\n",
    "\n",
    "# Define the labels\n",
    "labels = [\"기쁨\", \"당황\", \"분노\", \"불안\", \"상처\", \"슬픔\", \"중립\"]\n",
    "\n",
    "# Create a defaultdict to store the data for each label\n",
    "label_data = defaultdict(list)\n",
    "\n",
    "# Loop through each label\n",
    "for label in labels:\n",
    "    file_paths = [\n",
    "        f\"Training/[라벨]EMOIMG_{label}_TRAIN/img_emotion_training_data({label}).json\",\n",
    "        f\"Validation/[라벨]EMOIMG_{label}_VALID/img_emotion_validation_data({label}).json\",\n",
    "    ]\n",
    "    for file_path in file_paths:\n",
    "        full_file_path = os.path.join(base_path, file_path)\n",
    "        # Use the provided load_json_file function to load the JSON data\n",
    "        label_data[label].extend(load_json_file(full_file_path))\n",
    "\n",
    "# Shuffle the person IDs randomly\n",
    "person_ids = list(set([entry['filename'].split('_')[0] for label_data_list in label_data.values() for entry in label_data_list]))\n",
    "random.shuffle(person_ids)\n",
    "\n",
    "# Calculate the sizes for train, validation, and test sets\n",
    "total_person_count = len(person_ids)\n",
    "train_size = int(total_person_count * 0.8)\n",
    "val_size = int(total_person_count * 0.1)\n",
    "test_size = total_person_count - train_size - val_size\n",
    "\n",
    "# Divide the shuffled person IDs into train, validation, and test sets\n",
    "train_person_ids = person_ids[:train_size]\n",
    "val_person_ids = person_ids[train_size:train_size + val_size]\n",
    "test_person_ids = person_ids[train_size + val_size:]\n",
    "\n",
    "# Function to filter images by person ID\n",
    "def filter_images_by_person_id(data, person_ids):\n",
    "    return [entry for entry in data if entry['filename'].split('_')[0] in person_ids]\n",
    "\n",
    "# Function to split data for each label into train, validation, and test sets\n",
    "def split_data(data, person_ids):\n",
    "    train_data, val_data, test_data = [], [], []\n",
    "    for entry in data:\n",
    "        if check_same_face_exp(entry):\n",
    "            person_id = entry['filename'].split('_')[0]\n",
    "            if person_id in person_ids[:train_size]:\n",
    "                train_data.append(entry)\n",
    "            elif person_id in person_ids[train_size:train_size + val_size]:\n",
    "                val_data.append(entry)\n",
    "            else:\n",
    "                test_data.append(entry)\n",
    "    return train_data, val_data, test_data\n",
    "\n",
    "# Split the data for each label into train, validation, and test sets\n",
    "train_data, val_data, test_data = [], [], []\n",
    "for label in labels:\n",
    "    data = label_data[label]\n",
    "    train, val, test = split_data(data, person_ids)\n",
    "    train_data.extend(train)\n",
    "    val_data.extend(val)\n",
    "    test_data.extend(test)\n",
    "\n",
    "# Filter images by person ID for each set\n",
    "train_data = filter_images_by_person_id(train_data, train_person_ids)\n",
    "val_data = filter_images_by_person_id(val_data, val_person_ids)\n",
    "test_data = filter_images_by_person_id(test_data, test_person_ids)\n",
    "\n",
    "# Save the split datasets into separate JSON files\n",
    "with open(os.path.join(output_dir, 'train_data.json'), 'w') as f_train:\n",
    "    json.dump(train_data, f_train)\n",
    "with open(os.path.join(output_dir, 'val_data.json'), 'w') as f_val:\n",
    "    json.dump(val_data, f_val)\n",
    "with open(os.path.join(output_dir, 'test_data.json'), 'w') as f_test:\n",
    "    json.dump(test_data, f_test)\n"
   ]
  },
  {
   "attachments": {},
   "cell_type": "markdown",
   "metadata": {},
   "source": [
    "# 구축 데이터셋 분석"
   ]
  },
  {
   "cell_type": "code",
   "execution_count": null,
   "metadata": {},
   "outputs": [],
   "source": [
    "########## json 분포 확인\n",
    "def count_emotion_by_age_and_gender(emotion_label, cnt):\n",
    "    age_gender_counts = {\n",
    "        \"남\": [0, 0, 0, 0],\n",
    "        \"여\": [0, 0, 0, 0]\n",
    "    }\n",
    "\n",
    "    with open('/home/jeeyoung/dataset/train_data.json', 'r') as f:\n",
    "        emotion_data = json.load(f)\n",
    "    \n",
    "    print(len(emotion_data))\n",
    "    for entry in emotion_data:\n",
    "        if(entry[\"faceExp_uploader\"] == emotion_label):\n",
    "            if all(entry[f\"annot_{letter}\"][\"faceExp\"] == emotion_label for letter in \"ABC\"):\n",
    "                age = entry[\"age\"]\n",
    "                gender = entry[\"gender\"]\n",
    "                if(age == 10):\n",
    "                    age_idx = 0\n",
    "                elif(age == 20 or age == 30):\n",
    "                    age_idx = 1\n",
    "                elif(age == 40 or age == 50):\n",
    "                    age_idx = 2\n",
    "                elif(age == 60):\n",
    "                    age_idx = 3\n",
    "                else:\n",
    "                    print(\"age error\", age)\n",
    "                cnt += 1\n",
    "                age_gender_counts[gender][age_idx] += 1\n",
    "    return age_gender_counts, cnt\n",
    "\n",
    "print(\"====================TRAIN====================\")\n",
    "print(\"           10   20+30   40+50   60\")\n",
    "emotions = [\"기쁨\", \"슬픔\", \"분노\", \"당황\", \"불안\", \"상처\", \"중립\"]\n",
    "\n",
    "cnt = 0\n",
    "\n",
    "for emotion_label in emotions:\n",
    "    counts, cnt = count_emotion_by_age_and_gender(emotion_label, cnt)\n",
    "    print(f\"{emotion_label} 남자: {counts['남']}\")\n",
    "    print(f\"{emotion_label} 여자: {counts['여']}\")\n",
    "print(cnt)"
   ]
  }
 ],
 "metadata": {
  "kernelspec": {
   "display_name": "pororo",
   "language": "python",
   "name": "python3"
  },
  "language_info": {
   "codemirror_mode": {
    "name": "ipython",
    "version": 3
   },
   "file_extension": ".py",
   "mimetype": "text/x-python",
   "name": "python",
   "nbconvert_exporter": "python",
   "pygments_lexer": "ipython3",
   "version": "3.6.15"
  },
  "orig_nbformat": 4
 },
 "nbformat": 4,
 "nbformat_minor": 2
}
