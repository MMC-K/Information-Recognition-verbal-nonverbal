{
 "cells": [
  {
   "cell_type": "code",
   "execution_count": 3,
   "metadata": {},
   "outputs": [],
   "source": [
    "import os\n",
    "import json\n",
    "import glob\n",
    "import pandas as pd\n",
    "import seaborn as sns\n",
    "import matplotlib.pyplot as plt\n",
    "import matplotlib as mpl\n",
    "\n",
    "from collections import Counter\n",
    "from sklearn.model_selection import train_test_split\n",
    "from tqdm import tqdm\n",
    "\n",
    "import warnings\n",
    "warnings.filterwarnings('ignore')"
   ]
  },
  {
   "attachments": {},
   "cell_type": "markdown",
   "metadata": {},
   "source": [
    "# 데이터 전처리"
   ]
  },
  {
   "cell_type": "code",
   "execution_count": null,
   "metadata": {},
   "outputs": [],
   "source": [
    "##### csv 파일 생성하는 기존 코드 ('중립' 부분을 계속 바꿔서 실행해야함)\n",
    "textdata = pd.read_csv(\"/media/jeeyoung/8C0CACF80CACDE88/JEE/data_multimodal/emotion/018.감성대화/Training_221115_add/total.csv\")\n",
    "textdata.columns = ['age', 'gender', 'label', 'sentence']\n",
    "print(Counter(textdata['label']))\n",
    "textdata.drop_duplicates(['sentence'], keep = False)\n",
    "textdata.loc[textdata['label'] == '중립', 'label'] = 6\n",
    "print(Counter(textdata['label']))\n",
    "textdata.loc[textdata['label'] == 6].to_csv(\"/media/jeeyoung/8C0CACF80CACDE88/JEE/data_multimodal/emotion/018.감성대화/Training_221115_add/train/SDD-중립.csv\", index=False)\n",
    "\n",
    "textdata = pd.read_csv(\"/media/jeeyoung/8C0CACF80CACDE88/JEE/data_multimodal/emotion/018.감성대화/Validation_221115_add/total.csv\")\n",
    "textdata.columns = ['age', 'gender', 'label', 'sentence']\n",
    "textdata.drop_duplicates(['sentence'], keep = False)\n",
    "textdata.loc[textdata['label'] == '중립', 'label'] = 6\n",
    "#print(Counter(textdata['label']))\n",
    "textdata.loc[textdata['label'] == 6].to_csv(\"/media/jeeyoung/8C0CACF80CACDE88/JEE/data_multimodal/emotion/018.감성대화/Validation_221115_add/valid/SDD-중립.csv\", index=False)"
   ]
  },
  {
   "cell_type": "code",
   "execution_count": null,
   "metadata": {},
   "outputs": [],
   "source": [
    "##### 정리한 코드 (검증 필요)\n",
    "def process_data(input_file, output_file, emotion, num):\n",
    "    textdata = pd.read_csv(input_file)\n",
    "    textdata.columns = ['age', 'gender', 'label', 'sentence']\n",
    "    textdata.dropna(inplace=True)\n",
    "    textdata.drop_duplicates(['sentence'], keep=False)\n",
    "    textdata.loc[textdata['label'] == emotion, 'label'] = num\n",
    "    textdata.loc[textdata['label'] == num].to_csv(output_file, index=False)\n",
    "\n",
    "emotion_mapping = {\n",
    "    '기쁨': 0,\n",
    "    '슬픔': 1,\n",
    "    '분노': 2,\n",
    "    '당황': 3,\n",
    "    '불안': 4,\n",
    "    '상처': 5,\n",
    "    '중립': 6\n",
    "}\n",
    "\n",
    "input_dir_train = \"/media/jeeyoung/8C0CACF80CACDE88/JEE/data_multimodal/emotion/018.감성대화/Training_221115_add/total.csv\"\n",
    "output_dir_train = \"/media/jeeyoung/8C0CACF80CACDE88/JEE/data_multimodal/emotion/018.감성대화/Training_221115_add/train/\"\n",
    "for emotion, num in emotion_mapping.items():\n",
    "    process_data(input_dir_train, f\"{output_dir_train}SDD-{emotion}.csv\", emotion, num)\n",
    "\n",
    "input_dir_valid = \"/media/jeeyoung/8C0CACF80CACDE88/JEE/data_multimodal/emotion/018.감성대화/Validation_221115_add/total.csv\"\n",
    "output_dir_valid = \"/media/jeeyoung/8C0CACF80CACDE88/JEE/data_multimodal/emotion/018.감성대화/Validation_221115_add/valid/\"\n",
    "for emotion, num in emotion_mapping.items():\n",
    "    process_data(input_dir_valid, f\"{output_dir_valid}SDD-{emotion}.csv\", emotion, num)"
   ]
  },
  {
   "cell_type": "code",
   "execution_count": null,
   "metadata": {},
   "outputs": [],
   "source": [
    "##### 두 SDD_{label}.csv 파일을 읽고 중복 문장 제거\n",
    "\n",
    "import pandas as pd\n",
    "\n",
    "labelList = [\"기쁨\", \"슬픔\", \"분노\", \"당황\", \"불안\", \"상처\", \"중립\"]\n",
    "\n",
    "for label in labelList:\n",
    "    # Step 1: Read the two CSV files into dataframes\n",
    "    file1 = f'/media/jeeyoung/8C0CACF80CACDE88/JEE/data_multimodal/emotion/018.감성대화/Training_221115_add/train/SDD-{label}.csv'\n",
    "    file2 = f'/media/jeeyoung/8C0CACF80CACDE88/JEE/data_multimodal/emotion/018.감성대화/Validation_221115_add/valid/SDD-{label}.csv'\n",
    "\n",
    "    df1 = pd.read_csv(file1)\n",
    "    df2 = pd.read_csv(file2)\n",
    "\n",
    "    # Step 2: Find overlapping sentences\n",
    "    overlapping_sentences = df1.merge(df2, on='sentence')\n",
    "\n",
    "    # Step 3: Create a set to keep track of sentences added to the non_overlapping_file\n",
    "    added_sentences = set()\n",
    "\n",
    "    # Step 4: Write non-overlapping sentences from df1 to the non_overlapping_file\n",
    "    non_overlapping_file = f'/media/jeeyoung/8C0CACF80CACDE88/JEE/data_multimodal/emotion/018.감성대화/{label}_non.csv'\n",
    "    with open(non_overlapping_file, 'w', encoding='utf-8') as file:\n",
    "        file.write(\"age,gender,label,sentence\\n\")\n",
    "        for index, row in df1.iterrows():\n",
    "            sentence = row['sentence']\n",
    "            if sentence not in added_sentences:\n",
    "                file.write(f\"{row['age']},{row['gender']},{row['label']},{sentence}\\n\")\n",
    "                added_sentences.add(sentence)\n",
    "\n",
    "    # Step 5: Create a dataframe with only overlapping sentences (using df1)\n",
    "    overlapping_sentences = overlapping_sentences[['age_x', 'gender_x', 'label_x', 'sentence']]\n",
    "\n",
    "    # Step 6: Write overlapping dataframe to a new CSV file with the new emotion label\n",
    "    overlapping_file = f'/media/jeeyoung/8C0CACF80CACDE88/JEE/data_multimodal/emotion/018.감성대화/{label}_중복.csv'\n",
    "    overlapping_sentences.to_csv(overlapping_file, index=False)\n"
   ]
  },
  {
   "attachments": {},
   "cell_type": "markdown",
   "metadata": {},
   "source": [
    "# 구축 데이터 분석"
   ]
  },
  {
   "cell_type": "code",
   "execution_count": 8,
   "metadata": {},
   "outputs": [
    {
     "name": "stdout",
     "output_type": "stream",
     "text": [
      "Empty DataFrame\n",
      "Columns: [sentence, count]\n",
      "Index: []\n"
     ]
    }
   ],
   "source": [
    "##### 새로 생성한 파일({label}_non.csv)의 중복 문장 확인 (중복이 없어야 함)\n",
    "\n",
    "import pandas as pd\n",
    "from collections import Counter\n",
    "\n",
    "# Step 1: Read the CSV file into a pandas DataFrame\n",
    "df = pd.read_csv('/media/jeeyoung/8C0CACF80CACDE88/JEE/data_multimodal/emotion/018.감성대화/기쁨_non.csv')\n",
    "\n",
    "# Step 2: Group the DataFrame by the 'sentence' column and count the occurrences of each sentence\n",
    "sentence_counts = df.groupby('sentence').size().reset_index(name='count')\n",
    "\n",
    "# Step 3: Filter the sentences that have a count greater than 1, indicating they are duplicated\n",
    "duplicated_sentences = sentence_counts[sentence_counts['count'] > 1]\n",
    "\n",
    "# Step 4: Display the duplicated sentences and their occurrences\n",
    "print(duplicated_sentences)\n"
   ]
  },
  {
   "cell_type": "code",
   "execution_count": null,
   "metadata": {},
   "outputs": [],
   "source": [
    "##### 새로 생성한 파일({label}_non.csv)의 나이 및 성별 분포 확인\n",
    "\n",
    "import pandas as pd\n",
    "\n",
    "# Read the CSV file into a pandas DataFrame\n",
    "df = pd.read_csv('/media/jeeyoung/8C0CACF80CACDE88/JEE/data_multimodal/emotion/018.감성대화/기쁨_non.csv', sep=',')\n",
    "\n",
    "# Define the age and gender groups\n",
    "age_groups = [\"청소년\", \"청년\", \"중년\", \"노년\"]\n",
    "genders = [\"여성\", \"남성\"]\n",
    "\n",
    "# Initialize a dictionary to store the counts for each combination\n",
    "counts = {}\n",
    "\n",
    "# Loop through age groups and genders to count occurrences\n",
    "for age_group in age_groups:\n",
    "    for gender in genders:\n",
    "        count = len(df[(df['age'] == age_group) & (df['gender'] == gender)])\n",
    "        counts[(age_group, gender)] = count\n",
    "\n",
    "# Print the result\n",
    "for age_group, gender in counts.keys():\n",
    "    count = counts[(age_group, gender)]\n",
    "    print(f\"Age group: {age_group}, Gender: {gender}, Count: {count}\")"
   ]
  }
 ],
 "metadata": {
  "kernelspec": {
   "display_name": "base",
   "language": "python",
   "name": "python3"
  },
  "language_info": {
   "codemirror_mode": {
    "name": "ipython",
    "version": 3
   },
   "file_extension": ".py",
   "mimetype": "text/x-python",
   "name": "python",
   "nbconvert_exporter": "python",
   "pygments_lexer": "ipython3",
   "version": "3.6.15"
  },
  "orig_nbformat": 4,
  "vscode": {
   "interpreter": {
    "hash": "2008289aef82e79a399a6e6f3529208ad2b271d080cec729b03d397ed23e646b"
   }
  }
 },
 "nbformat": 4,
 "nbformat_minor": 2
}
